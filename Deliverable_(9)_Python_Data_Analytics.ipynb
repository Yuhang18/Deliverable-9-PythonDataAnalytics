{
  "nbformat": 4,
  "nbformat_minor": 0,
  "metadata": {
    "colab": {
      "provenance": []
    },
    "kernelspec": {
      "name": "python3",
      "display_name": "Python 3"
    },
    "language_info": {
      "name": "python"
    }
  },
  "cells": [
    {
      "cell_type": "markdown",
      "source": [
        "**Step 1: Problem Definition**\n",
        "\n",
        "I will choose the Iris dataset. This dataset consists of 150 samples with four features (sepal length, sepal width, petal length, and petal width) and three possible classes of iris flowers. This is a classification problem, where the goal is to predict the class of the iris flower based on the four features."
      ],
      "metadata": {
        "id": "w482MjbVkCI1"
      }
    },
    {
      "cell_type": "markdown",
      "source": [
        "**Step 2: Data Splitting**\n",
        "\n",
        "I split the dataset into a training set and a test set, where 80% of the data is used for training and 20% for testing.\n",
        "\n"
      ],
      "metadata": {
        "id": "7rz9oJGDkpKc"
      }
    },
    {
      "cell_type": "code",
      "source": [
        "import pandas as pd\n",
        "from sklearn.model_selection import train_test_split\n",
        "\n",
        "# load iris dataset\n",
        "iris_df = pd.read_csv('https://archive.ics.uci.edu/ml/machine-learning-databases/iris/iris.data', header=None)\n",
        "iris_df.columns = ['sepal_length', 'sepal_width', 'petal_length', 'petal_width', 'class']\n",
        "\n",
        "# split into features and response\n",
        "X = iris_df.drop('class', axis=1)\n",
        "y = iris_df['class']\n",
        "\n",
        "# split into training and testing data\n",
        "X_train, X_test, y_train, y_test = train_test_split(X, y, test_size=0.2, random_state=1)"
      ],
      "metadata": {
        "id": "3k61SU_3kdO2"
      },
      "execution_count": null,
      "outputs": []
    },
    {
      "cell_type": "markdown",
      "source": [
        "**Step 3: Model Selection, Model Fitting, and Model Evaluation**\n",
        "\n",
        "I will use a decision tree classifier to predict the class of the iris flowers.\n",
        "\n"
      ],
      "metadata": {
        "id": "-znMPPfllPSS"
      }
    },
    {
      "cell_type": "code",
      "source": [
        "from sklearn.tree import DecisionTreeClassifier\n",
        "from sklearn.metrics import accuracy_score\n",
        "\n",
        "# fit decision tree to training data\n",
        "dt = DecisionTreeClassifier(random_state=1)\n",
        "dt.fit(X_train, y_train)\n",
        "\n",
        "# predict class of test data\n",
        "y_pred = dt.predict(X_test)\n",
        "\n",
        "# calculate accuracy of predictions\n",
        "accuracy = accuracy_score(y_test, y_pred)\n",
        "print('Accuracy:', accuracy)"
      ],
      "metadata": {
        "colab": {
          "base_uri": "https://localhost:8080/"
        },
        "id": "BprM5wxxlURj",
        "outputId": "09920174-51c3-4402-c9ed-e9cc7ac36515"
      },
      "execution_count": null,
      "outputs": [
        {
          "output_type": "stream",
          "name": "stdout",
          "text": [
            "Accuracy: 0.9666666666666667\n"
          ]
        }
      ]
    },
    {
      "cell_type": "markdown",
      "source": [
        "The accuracy of the model is printed out as 96.67%."
      ],
      "metadata": {
        "id": "E_vkSl-4lz2K"
      }
    },
    {
      "cell_type": "markdown",
      "source": [
        "**Step 4: Finals Remarks**\n",
        "\n",
        "The decision tree classifier was able to accurately predict the class of iris with an accuracy of 96.67%. I believe this is a high accuracy score, indicating that the model is able to distinguish different types of iris based on sepal length, sepal width, petal length, and petal width."
      ],
      "metadata": {
        "id": "KDUInHgll8Aa"
      }
    }
  ]
}